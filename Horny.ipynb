{
 "cells": [
  {
   "cell_type": "markdown",
   "metadata": {},
   "source": [
    "#### put 2 images in the src folder then do the run all if you using this jupyter notebook\n",
    "\n",
    "#### Have Fun"
   ]
  },
  {
   "cell_type": "code",
   "execution_count": 125,
   "metadata": {},
   "outputs": [
    {
     "name": "stdout",
     "output_type": "stream",
     "text": [
      "Requirement already satisfied: Pillow in c:\\users\\asus\\appdata\\local\\programs\\python\\python39\\lib\\site-packages (8.4.0)\n",
      "Note: you may need to restart the kernel to use updated packages.\n"
     ]
    },
    {
     "name": "stderr",
     "output_type": "stream",
     "text": [
      "WARNING: Ignoring invalid distribution -illow (c:\\users\\asus\\appdata\\local\\programs\\python\\python39\\lib\\site-packages)\n",
      "WARNING: Ignoring invalid distribution -illow (c:\\users\\asus\\appdata\\local\\programs\\python\\python39\\lib\\site-packages)\n",
      "WARNING: Ignoring invalid distribution -illow (c:\\users\\asus\\appdata\\local\\programs\\python\\python39\\lib\\site-packages)\n",
      "WARNING: Ignoring invalid distribution -illow (c:\\users\\asus\\appdata\\local\\programs\\python\\python39\\lib\\site-packages)\n",
      "WARNING: Ignoring invalid distribution -illow (c:\\users\\asus\\appdata\\local\\programs\\python\\python39\\lib\\site-packages)\n"
     ]
    }
   ],
   "source": [
    "#can skip this line if alr install pillow\n",
    "%pip install Pillow"
   ]
  },
  {
   "cell_type": "code",
   "execution_count": 126,
   "metadata": {},
   "outputs": [],
   "source": [
    "from PIL import Image\n",
    "import os"
   ]
  },
  {
   "cell_type": "code",
   "execution_count": 127,
   "metadata": {},
   "outputs": [],
   "source": [
    "def getImageSrc():\n",
    "    FOLDER = './src/'\n",
    "    catchFile = []\n",
    "    for file in os.walk(FOLDER):\n",
    "        for fileName in file[2]:\n",
    "            if fileName.endswith('.jpg') or fileName.endswith('.png'):\n",
    "                catchFile.append(fileName)\n",
    "    \n",
    "    return FOLDER+catchFile[0],FOLDER+catchFile[1]"
   ]
  },
  {
   "cell_type": "code",
   "execution_count": 128,
   "metadata": {},
   "outputs": [],
   "source": [
    "def min(a,b):\n",
    "    if a<b:\n",
    "        return a\n",
    "    else:\n",
    "        return b"
   ]
  },
  {
   "cell_type": "code",
   "execution_count": 129,
   "metadata": {},
   "outputs": [],
   "source": [
    "def getSize(hl,wl,hr,wr):\n",
    "    return min(hl,hr),min(wl,wr)"
   ]
  },
  {
   "cell_type": "code",
   "execution_count": 130,
   "metadata": {},
   "outputs": [],
   "source": [
    "left_src,right_src = getImageSrc()"
   ]
  },
  {
   "cell_type": "code",
   "execution_count": 131,
   "metadata": {},
   "outputs": [],
   "source": [
    "right = Image.open(right_src)\n",
    "left = Image.open(left_src)"
   ]
  },
  {
   "cell_type": "code",
   "execution_count": 132,
   "metadata": {},
   "outputs": [],
   "source": [
    "right = right.transpose(method=Image.FLIP_LEFT_RIGHT)"
   ]
  },
  {
   "cell_type": "code",
   "execution_count": 133,
   "metadata": {},
   "outputs": [],
   "source": [
    "wl,hl= left.size\n",
    "wr,hr= right.size"
   ]
  },
  {
   "cell_type": "code",
   "execution_count": 134,
   "metadata": {},
   "outputs": [],
   "source": [
    "h,w = getSize(hl,wl,hr,wr)"
   ]
  },
  {
   "cell_type": "code",
   "execution_count": 135,
   "metadata": {},
   "outputs": [],
   "source": [
    "left_img = left.resize((w,h))\n",
    "right_img = right.resize((w,h))"
   ]
  },
  {
   "cell_type": "code",
   "execution_count": 136,
   "metadata": {},
   "outputs": [],
   "source": [
    "def hasTransparency(img):\n",
    "    if img.mode == \"P\":\n",
    "        transparent = img.info.get(\"transparency\", -1)\n",
    "        for _, index in img.getcolors():\n",
    "            if index == transparent:\n",
    "                return True\n",
    "    elif img.mode == \"RGBA\":\n",
    "        extrema = img.getextrema()\n",
    "        if extrema[3][0] < 255:\n",
    "            return True\n",
    "\n",
    "    return False\n"
   ]
  },
  {
   "cell_type": "code",
   "execution_count": 137,
   "metadata": {},
   "outputs": [],
   "source": [
    "def pasteImage(destImg,w,h,Img):\n",
    "    if hasTransparency(Img):\n",
    "        destImg.paste(Img,(w,h),Img)\n",
    "    else:\n",
    "        destImg.paste(Img,(w,h))"
   ]
  },
  {
   "cell_type": "code",
   "execution_count": 138,
   "metadata": {},
   "outputs": [],
   "source": [
    "doubleHorny = Image.new('RGB',(w*2,h),(255,255,255))\n",
    "pasteImage(doubleHorny,0,0,left_img)\n",
    "pasteImage(doubleHorny,w,0,right_img)\n",
    "doubleHorny.save(\"doubleHrony.jpg\")\n",
    "anotherDoubleHorny = doubleHorny.transpose(method=Image.FLIP_LEFT_RIGHT)\n",
    "anotherDoubleHorny.save(\"anotherDoubleHorny.jpg\")"
   ]
  },
  {
   "cell_type": "code",
   "execution_count": 139,
   "metadata": {},
   "outputs": [],
   "source": [
    "doubleHorny.show()\n",
    "anotherDoubleHorny.show()"
   ]
  }
 ],
 "metadata": {
  "interpreter": {
   "hash": "06cb67651ce969e244f20f184e33f4ddb1106793adfe07cf7ddc131c95c4012f"
  },
  "kernelspec": {
   "display_name": "Python 3.9.7 64-bit",
   "language": "python",
   "name": "python3"
  },
  "language_info": {
   "codemirror_mode": {
    "name": "ipython",
    "version": 3
   },
   "file_extension": ".py",
   "mimetype": "text/x-python",
   "name": "python",
   "nbconvert_exporter": "python",
   "pygments_lexer": "ipython3",
   "version": "3.9.7"
  },
  "orig_nbformat": 4
 },
 "nbformat": 4,
 "nbformat_minor": 2
}
